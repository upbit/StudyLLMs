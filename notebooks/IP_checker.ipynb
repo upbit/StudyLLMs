{
 "cells": [
  {
   "cell_type": "markdown",
   "id": "b64221ba-7a46-4003-b10e-939c37075d85",
   "metadata": {},
   "source": [
    "# [智普AI](bigmodel.cn)"
   ]
  },
  {
   "cell_type": "code",
   "execution_count": 9,
   "metadata": {},
   "outputs": [
    {
     "data": {
      "text/plain": [
       "{'code': 200,\n",
       " 'msg': '操作成功',\n",
       " 'data': {'request_id': '8163351018503272860',\n",
       "  'task_id': '8163351018503272860',\n",
       "  'task_status': 'SUCCESS',\n",
       "  'choices': [{'role': 'assistant',\n",
       "    'content': '\" 首先，我需要知道您想要获取哪些网页的IP地址。您可以提供网页的URL，或者告诉我您想要抓取哪些网站的IP地址。\\\\n\\\\n接下来，我将为您提供一段Python代码，用于从提供的网页中提取IP地址，并检查这些IP地址的可可用性。\\\\n\\\\n1. 首先，我们需要安装一个名为`requests`的Python库，用于发送HTTP请求。如果您尚未安装，请使用以下命令进行安装：\\\\n\\\\n```bash\\\\npip install requests\\\\n```\\\\n\\\\n2. 以下是一个Python脚本，用于从网页中提取IP地址并检查其可用性：\\\\n\\\\n```python\\\\nimport requests\\\\nimport re\\\\n\\\\ndef get_ip_addresses(url):\\\\n    response = requests.get(url)\\\\n    content = response.content.decode(\\'utf-8\\')\\\\n    ip_pattern = re.compile(r\\'(\\\\\\\\d+\\\\\\\\.\\\\\\\\d+\\\\\\\\.\\\\\\\\d+\\\\\\\\.\\\\\\\\d+)\\')\\\\n    return ip_pattern.findall(content)\\\\n\\\\ndef is_ip_available(ip):\\\\n    try:\\\\n        response = requests.get(f\\'http://ip-api.com/json/{ip}\\')\\\\n        if response.status_code == 200:\\\\n            data = response.json()\\\\n            if data[\\'status\\'] == \\'OK\\':\\\\n                return True\\\\n    except:\\\\n        pass\\\\n    return False\\\\n\\\\ndef main():\\\\n    urls = [\\\\n        \\'https://www.example.com\\',\\\\n        \\'https://www.github.com\\',\\\\n        # 您可以在这里添加更多URL\\\\n    ]\\\\n\\\\n    for url in urls:\\\\n        ip_addresses = get_ip_addresses(url)\\\\n        for ip in ip_addresses:\\\\n            if is_ip_available(ip):\\\\n                print(f\\'{url}的IP地址：{ip}，可用\\')\\\\n            else:\\\\n                print(f\\'{url}的IP地址：{ip}，不可用\\')\\\\n\\\\nif __name__ == \\'__main__\\':\\\\n    main()\\\\n```\\\\n\\\\n请根据您的需求修改`urls`列表，以便从您感兴趣的网页中提取IP地址。该脚本将输出每个网页的IP地址，并指示它们是否可用。\\\\n\\\\n请注意，这个脚本依赖于`ip-api.com`的服务。如果您需要使用其他IP查询服务，请修改`is_ip_available`函数以使用相应的API。\"'}],\n",
       "  'usage': {'prompt_tokens': 139,\n",
       "   'completion_tokens': 545,\n",
       "   'total_tokens': 684}},\n",
       " 'success': True}"
      ]
     },
     "execution_count": 9,
     "metadata": {},
     "output_type": "execute_result"
    }
   ],
   "source": [
    "import zhipuai\n",
    "\n",
    "zhipuai.api_key = \"65ee3a27e9a80f04abad9af2a99de2e8.sinGhMdqrHOblWRZ\"\n",
    "\n",
    "response = zhipuai.model_api.invoke(\n",
    "    model=\"chatglm_turbo\",\n",
    "    prompt=[\n",
    "        {\"role\": \"user\", \"content\": \"你好\"},\n",
    "        {\"role\": \"assistant\", \"content\": \"你好，我是人工智能助手ChatGLM\"},\n",
    "        {\"role\": \"user\", \"content\": \"你可以帮我做些事情吗？\"},\n",
    "        {\"role\": \"assistant\", \"content\": \"当然可以，请告诉我你的需求\"},\n",
    "        {\"role\": \"user\", \"content\": \"我需要你帮我抽取网页中的IP地址，并用Python写一个检查这些IP可用性的代码\"},\n",
    "    ]\n",
    ")\n",
    "response"
   ]
  },
  {
   "cell_type": "code",
   "execution_count": 11,
   "metadata": {},
   "outputs": [
    {
     "name": "stdout",
     "output_type": "stream",
     "text": [
      "\" 首先，我需要知道您想要获取哪些网页的IP地址。您可以提供网页的URL，或者告诉我您想要抓取哪些网站的IP地址。\\n\\n接下来，我将为您提供一段Python代码，用于从提供的网页中提取IP地址，并检查这些IP地址的可可用性。\\n\\n1. 首先，我们需要安装一个名为`requests`的Python库，用于发送HTTP请求。如果您尚未安装，请使用以下命令进行安装：\\n\\n```bash\\npip install requests\\n```\\n\\n2. 以下是一个Python脚本，用于从网页中提取IP地址并检查其可用性：\\n\\n```python\\nimport requests\\nimport re\\n\\ndef get_ip_addresses(url):\\n    response = requests.get(url)\\n    content = response.content.decode('utf-8')\\n    ip_pattern = re.compile(r'(\\\\d+\\\\.\\\\d+\\\\.\\\\d+\\\\.\\\\d+)')\\n    return ip_pattern.findall(content)\\n\\ndef is_ip_available(ip):\\n    try:\\n        response = requests.get(f'http://ip-api.com/json/{ip}')\\n        if response.status_code == 200:\\n            data = response.json()\\n            if data['status'] == 'OK':\\n                return True\\n    except:\\n        pass\\n    return False\\n\\ndef main():\\n    urls = [\\n        'https://www.example.com',\\n        'https://www.github.com',\\n        # 您可以在这里添加更多URL\\n    ]\\n\\n    for url in urls:\\n        ip_addresses = get_ip_addresses(url)\\n        for ip in ip_addresses:\\n            if is_ip_available(ip):\\n                print(f'{url}的IP地址：{ip}，可用')\\n            else:\\n                print(f'{url}的IP地址：{ip}，不可用')\\n\\nif __name__ == '__main__':\\n    main()\\n```\\n\\n请根据您的需求修改`urls`列表，以便从您感兴趣的网页中提取IP地址。该脚本将输出每个网页的IP地址，并指示它们是否可用。\\n\\n请注意，这个脚本依赖于`ip-api.com`的服务。如果您需要使用其他IP查询服务，请修改`is_ip_available`函数以使用相应的API。\"\n"
     ]
    }
   ],
   "source": [
    "print(response['data']['choices'][0]['content'])"
   ]
  }
 ],
 "metadata": {
  "kernelspec": {
   "display_name": "Python 3 (ipykernel)",
   "language": "python",
   "name": "python3"
  },
  "language_info": {
   "codemirror_mode": {
    "name": "ipython",
    "version": 3
   },
   "file_extension": ".py",
   "mimetype": "text/x-python",
   "name": "python",
   "nbconvert_exporter": "python",
   "pygments_lexer": "ipython3",
   "version": "3.11.4"
  }
 },
 "nbformat": 4,
 "nbformat_minor": 5
}
