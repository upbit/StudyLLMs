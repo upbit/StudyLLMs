{
 "cells": [
  {
   "cell_type": "markdown",
   "metadata": {},
   "source": [
    "## OpenAI API"
   ]
  },
  {
   "cell_type": "code",
   "execution_count": null,
   "metadata": {},
   "outputs": [],
   "source": [
    "!pip3 install openai==1.56.1 httpx==0.27.2"
   ]
  },
  {
   "cell_type": "code",
   "execution_count": 12,
   "metadata": {},
   "outputs": [
    {
     "data": {
      "text/plain": [
       "'qwq-32b:q4_k_m'"
      ]
     },
     "execution_count": 12,
     "metadata": {},
     "output_type": "execute_result"
    }
   ],
   "source": [
    "from openai import AsyncOpenAI\n",
    "\n",
    "client = AsyncOpenAI(\n",
    "    base_url='http://localhost:11434/v1/',\n",
    "    api_key='ollama',\n",
    ")\n",
    "models = await client.models.list()\n",
    "model_name = models.data[0].id\n",
    "model_name"
   ]
  },
  {
   "cell_type": "code",
   "execution_count": null,
   "metadata": {},
   "outputs": [
    {
     "name": "stdout",
     "output_type": "stream",
     "text": [
      "<think>\n",
      "\n",
      "Okay, the user said \"Say this is a test.\" I need to respond appropriately. Let me see... They want me to confirm that their statement is indeed a test? Maybe they're checking if my responses are accurate or part of some testing phase.\n",
      "\n",
      "Hmm, should I just repeat what they said verbatim? Or maybe acknowledge it and add something else? The instructions mention being friendly and helpful, so perhaps a simple confirmation with a smiley would be good. \n",
      "\n",
      "Wait, the user might expect me to say \"This is a test.\" directly. Let me check again. Their input was exactly asking an AI to \"Say this is a test\". So maybe I should just comply. But also follow the guidelines of being concise and personable.\n",
      "\n",
      "Alright, I'll go with \"You're absolutely right! This is indeed a test. 😊 How can I assist you today?\" That way, it acknowledges their statement while keeping the conversation open for further assistance.\n",
      "</think>\n",
      "\n",
      "You're absolutely right! \"This is a test.\" 😊 Feel free to ask me anything else!\n"
     ]
    },
    {
     "data": {
      "text/plain": [
       "1"
      ]
     },
     "execution_count": 18,
     "metadata": {},
     "output_type": "execute_result"
    }
   ],
   "source": [
    "import sys\n",
    "\n",
    "async for rsp in await client.chat.completions.create(\n",
    "    model=model_name,\n",
    "    messages=[\n",
    "        {\n",
    "            'role': 'user',\n",
    "            'content': 'Say this is a test',\n",
    "        }\n",
    "    ],\n",
    "    max_tokens=1024,\n",
    "    stream=True,\n",
    "):\n",
    "    content = rsp.choices[0].delta.content\n",
    "    sys.stdout.write(content)\n",
    "\n",
    "sys.stdout.write(\"\\n\")"
   ]
  },
  {
   "cell_type": "markdown",
   "metadata": {},
   "source": [
    "## Ollama"
   ]
  },
  {
   "cell_type": "code",
   "execution_count": null,
   "metadata": {},
   "outputs": [],
   "source": [
    "!pip3 install -U ollama"
   ]
  },
  {
   "cell_type": "code",
   "execution_count": 22,
   "metadata": {},
   "outputs": [
    {
     "name": "stdout",
     "output_type": "stream",
     "text": [
      "<think>\n",
      "\n",
      "Okay, the user said \"Say this is a test.\" Hmm, so they want me to confirm that their statement is indeed a test? Maybe they're checking how I respond when someone uses quotes like that. Let me make sure.\n",
      "\n",
      "First, I need to understand exactly what's being asked here. The phrase \"Say this is a test\" could be instructing me to repeat the statement as part of a test scenario. They might be testing my ability to follow simple commands or check if I can recognize when something is labeled as a test. \n",
      "\n",
      "Wait, maybe they want me to respond by agreeing that their input is a test? Like, \"This is indeed a test\" or something similar. Let me break it down.\n",
      "\n",
      "The user's message is straightforward: \"Say this is a test.\" So the literal interpretation would be for me to say exactly what they put in quotes, but since I'm an AI, my response should probably confirm that their statement serves as a test. \n",
      "\n",
      "Alternatively, could there be another angle? Maybe they want me to explain why \"this\" (their message) is considered a test. But the phrasing seems more like a direct instruction rather than a question needing explanation.\n",
      "\n",
      "I should consider possible misunderstandings too. If someone says \"Say this is a test,\" are they asking if I can recognize their input as part of an evaluation? Maybe in a scenario where they're testing my responses for accuracy or reliability.\n",
      "\n",
      "In any case, the safest approach would be to acknowledge their statement and confirm that it's being recognized as a test. So something like, \"You said this is a test. How may I assist you further?\" That way, I'm confirming their input while offering additional help if needed.\n",
      "</think>\n",
      "\n",
      "Certainly! This interaction can indeed be considered a test. Let me know what specific task or scenario you'd like to evaluate, and I'll do my best to assist!\n"
     ]
    },
    {
     "data": {
      "text/plain": [
       "1"
      ]
     },
     "execution_count": 22,
     "metadata": {},
     "output_type": "execute_result"
    }
   ],
   "source": [
    "import sys\n",
    "from ollama import AsyncClient\n",
    "\n",
    "messages = [\n",
    "  {\n",
    "    'role': 'user',\n",
    "    'content': 'Say this is a test',\n",
    "  },\n",
    "]\n",
    "\n",
    "client = AsyncClient()\n",
    "async for rsp in await client.chat(model_name, messages=messages, stream=True):\n",
    "  sys.stdout.write(rsp.message.content)\n",
    "\n",
    "sys.stdout.write(\"\\n\")\n"
   ]
  }
 ],
 "metadata": {
  "kernelspec": {
   "display_name": "torch2_py39",
   "language": "python",
   "name": "python3"
  },
  "language_info": {
   "codemirror_mode": {
    "name": "ipython",
    "version": 3
   },
   "file_extension": ".py",
   "mimetype": "text/x-python",
   "name": "python",
   "nbconvert_exporter": "python",
   "pygments_lexer": "ipython3",
   "version": "3.9.18"
  }
 },
 "nbformat": 4,
 "nbformat_minor": 2
}
